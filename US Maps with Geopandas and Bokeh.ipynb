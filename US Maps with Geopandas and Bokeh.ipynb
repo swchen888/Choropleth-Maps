{
 "cells": [
  {
   "cell_type": "code",
   "execution_count": null,
   "metadata": {},
   "outputs": [],
   "source": [
    "%matplotlib inline"
   ]
  },
  {
   "cell_type": "code",
   "execution_count": null,
   "metadata": {},
   "outputs": [],
   "source": [
    "from bokeh.plotting import figure, show, output_notebook\n",
    "\n",
    "\n",
    "output_notebook()\n",
    "\n",
    "TOOLS = \"pan,wheel_zoom,hover,reset,save\""
   ]
  },
  {
   "cell_type": "code",
   "execution_count": null,
   "metadata": {},
   "outputs": [],
   "source": [
    "from bokeh.models import GeoJSONDataSource"
   ]
  },
  {
   "cell_type": "code",
   "execution_count": null,
   "metadata": {},
   "outputs": [],
   "source": [
    "import geopandas as gpd"
   ]
  },
  {
   "cell_type": "code",
   "execution_count": null,
   "metadata": {},
   "outputs": [],
   "source": [
    "us_file_root = 'http://www2.census.gov/geo/tiger/GENZ2017/shp/'\n",
    "\n",
    "# shp files\n",
    "\n",
    "us_nation_file = us_file_root + 'cb_2017_us_nation_5m.zip'\n",
    "us_region_file = us_file_root + 'cb_2017_us_region_500k.zip'\n",
    "us_division_file = us_file_root + 'cb_2017_us_division_500k.zip'\n",
    "us_state_file = us_file_root + 'cb_2017_us_state_500k.zip'\n",
    "us_county_file = us_file_root + 'cb_2017_us_county_500k.zip'\n",
    "us_zcta_file = us_file_root + 'cb_2017_us_zcta510_500k.zip'\n",
    "\n",
    "# zcta county crosswalk file\n",
    "\n",
    "zcta_county_crosswalk_file = 'https://www2.census.gov/geo/docs/maps-data/data/rel/zcta_county_rel_10.txt'"
   ]
  },
  {
   "cell_type": "code",
   "execution_count": null,
   "metadata": {},
   "outputs": [],
   "source": [
    "us_counties = gpd.GeoDataFrame.from_file(us_county_file)"
   ]
  },
  {
   "cell_type": "code",
   "execution_count": null,
   "metadata": {},
   "outputs": [],
   "source": [
    "us_counties"
   ]
  },
  {
   "cell_type": "code",
   "execution_count": null,
   "metadata": {},
   "outputs": [],
   "source": [
    "us_states = gpd.GeoDataFrame.from_file(us_state_file)"
   ]
  },
  {
   "cell_type": "code",
   "execution_count": null,
   "metadata": {},
   "outputs": [],
   "source": [
    "us_states_json = us_states.query(\"STUSPS not in ['VI', 'PR', 'AS', 'GU', 'MP', 'AK', 'HI']\").to_json()"
   ]
  },
  {
   "cell_type": "code",
   "execution_count": null,
   "metadata": {},
   "outputs": [],
   "source": [
    "us_states_source = GeoJSONDataSource(geojson=us_states_json)"
   ]
  },
  {
   "cell_type": "code",
   "execution_count": null,
   "metadata": {},
   "outputs": [],
   "source": [
    "q = figure(title=\"US States\", tools=TOOLS, toolbar_location=\"left\",\n",
    "           plot_width=1100, plot_height=700)\n",
    "\n",
    "q.patches(xs='xs', ys='ys', fill_color='cyan',\n",
    "          line_color='black', line_width=1, source=us_states_source)\n",
    "\n",
    "show(q)"
   ]
  },
  {
   "cell_type": "code",
   "execution_count": null,
   "metadata": {},
   "outputs": [],
   "source": [
    "us_counties_json = us_counties.query(\"STATEFP not in ['66', '02', '69', '60', '72', '78', '15']\").to_json()"
   ]
  },
  {
   "cell_type": "code",
   "execution_count": null,
   "metadata": {},
   "outputs": [],
   "source": [
    "us_counties_source = GeoJSONDataSource(geojson=us_counties_json)"
   ]
  },
  {
   "cell_type": "code",
   "execution_count": null,
   "metadata": {},
   "outputs": [],
   "source": [
    "usc = figure(title=\"US Counties\", tools=TOOLS, toolbar_location=\"left\",\n",
    "           plot_width=1100, plot_height=700)\n",
    "\n",
    "usc.patches(xs='xs', ys='ys', fill_color='cyan',\n",
    "          line_color='grey', line_width=0.5, source=us_counties_source)\n",
    "\n",
    "usc.patches(xs='xs', ys='ys', fill_alpha=0.0,\n",
    "          line_color='black', line_width=2, source=us_states_source)\n",
    "\n",
    "show(usc)"
   ]
  },
  {
   "cell_type": "code",
   "execution_count": null,
   "metadata": {},
   "outputs": [],
   "source": [
    "us_states.query(\"STUSPS in ['VI', 'PR', 'AS', 'GU', 'MP', 'AK', 'HI']\")"
   ]
  },
  {
   "cell_type": "code",
   "execution_count": null,
   "metadata": {},
   "outputs": [],
   "source": []
  }
 ],
 "metadata": {
  "kernelspec": {
   "display_name": "Python 3",
   "language": "python",
   "name": "python3"
  },
  "language_info": {
   "codemirror_mode": {
    "name": "ipython",
    "version": 3
   },
   "file_extension": ".py",
   "mimetype": "text/x-python",
   "name": "python",
   "nbconvert_exporter": "python",
   "pygments_lexer": "ipython3",
   "version": "3.6.6"
  }
 },
 "nbformat": 4,
 "nbformat_minor": 2
}
